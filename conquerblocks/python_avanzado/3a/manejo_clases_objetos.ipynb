{
 "cells": [
  {
   "cell_type": "markdown",
   "metadata": {},
   "source": [
    "CLASE PERSONA :\n",
    "Define una clase Persona con atributos como nombre, edad y profesión. Luego, crea varios objetos de esta clase y muestra su información"
   ]
  },
  {
   "cell_type": "code",
   "execution_count": 2,
   "metadata": {},
   "outputs": [
    {
     "name": "stdout",
     "output_type": "stream",
     "text": [
      "Juan 25 Ingeniero\n"
     ]
    }
   ],
   "source": [
    "class Persona:\n",
    "    def __init__(self, nombre, edad, profesion):\n",
    "        self.nombre = nombre\n",
    "        self.edad = edad\n",
    "        self.profesion = profesion\n",
    "\n",
    "persona1 = Persona(\"Juan\", 25, \"Ingeniero\") \n",
    "\n",
    "print(persona1.nombre, persona1.edad, persona1.profesion)"
   ]
  },
  {
   "cell_type": "markdown",
   "metadata": {},
   "source": [
    "CALCULADORA BÁSICA :\n",
    "Crea una clase llamada “Calculadora” con métodos para sumar, restar, multiplicar y dividir. Crea objetos de esta clase y realiza algunas operaciones básicas.\n",
    "\n"
   ]
  },
  {
   "cell_type": "code",
   "execution_count": 3,
   "metadata": {},
   "outputs": [
    {
     "name": "stdout",
     "output_type": "stream",
     "text": [
      "15\n",
      "5\n",
      "50\n",
      "2.0\n"
     ]
    }
   ],
   "source": [
    "class Calculadora:\n",
    "    def __init__(self, numero1, numero2):\n",
    "        self.numero1 = numero1\n",
    "        self.numero2 = numero2\n",
    "\n",
    "    def sumar(self):\n",
    "        return self.numero1 + self.numero2\n",
    "    \n",
    "    def restar(self):\n",
    "        return self.numero1 - self.numero2\n",
    "    \n",
    "    def multiplicar(self):\n",
    "        return self.numero1 * self.numero2\n",
    "    \n",
    "    def dividir(self):\n",
    "        return self.numero1 / self.numero2\n",
    "    \n",
    "calculadora1 = Calculadora(10, 5)\n",
    "\n",
    "print(calculadora1.sumar())\n",
    "print(calculadora1.restar())\n",
    "print(calculadora1.multiplicar())\n",
    "print(calculadora1.dividir())\n"
   ]
  },
  {
   "cell_type": "markdown",
   "metadata": {},
   "source": [
    "LIBRO :\n",
    "Crea una clase “Libro” con atributos como título, autor y fecha de publicación. Luego, crea varios objetos Libro y muestra su información."
   ]
  },
  {
   "cell_type": "code",
   "execution_count": 4,
   "metadata": {},
   "outputs": [
    {
     "name": "stdout",
     "output_type": "stream",
     "text": [
      "El señor de los anillos J.R.R. Tolkien 1954\n"
     ]
    }
   ],
   "source": [
    "class libro:\n",
    "    def __init__(self, titulo, autor, fecha_publicacion):\n",
    "        self.titulo =titulo\n",
    "        self.autor  = autor\n",
    "        self.fecha_publicacion = fecha_publicacion\n",
    "\n",
    "libro1 = libro(\"El señor de los anillos\", \"J.R.R. Tolkien\", \"1954\")\n",
    "\n",
    "print(libro1.titulo, libro1.autor, libro1.fecha_publicacion)\n",
    "\n"
   ]
  },
  {
   "cell_type": "markdown",
   "metadata": {},
   "source": [
    "RECTÁNGULO :\n",
    "Crea una clase “Rectangulo” con atributos de longitud y ancho. Implementa un método para calcular el área y el perímetro del rectángulo."
   ]
  },
  {
   "cell_type": "code",
   "execution_count": 5,
   "metadata": {},
   "outputs": [
    {
     "name": "stdout",
     "output_type": "stream",
     "text": [
      "50\n",
      "30\n"
     ]
    }
   ],
   "source": [
    "class Rectangulo:\n",
    "    def __init__(self, longitud, ancho):\n",
    "        self.longitud = longitud\n",
    "        self.ancho = ancho\n",
    "\n",
    "    def calcular_area(self): \n",
    "        return self.longitud * self.ancho\n",
    "    \n",
    "    def calcular_perimetro(self):\n",
    "        return 2 * (self.longitud + self.ancho)\n",
    "    \n",
    "rectangulo1 = Rectangulo(10, 5)\n",
    "\n",
    "print(rectangulo1.calcular_area())\n",
    "print(rectangulo1.calcular_perimetro())\n"
   ]
  },
  {
   "cell_type": "markdown",
   "metadata": {},
   "source": [
    "DADO :\n",
    "Crea una clase “Dado” que simule el lanzamiento de un dado de 6 caras. Implementa un método para lanzar el dado y mostrar el resultado (quizás te convenga usar el modulo random).\n",
    "\n"
   ]
  },
  {
   "cell_type": "code",
   "execution_count": 17,
   "metadata": {},
   "outputs": [
    {
     "name": "stdout",
     "output_type": "stream",
     "text": [
      "4\n"
     ]
    }
   ],
   "source": [
    "import random\n",
    "\n",
    "class Dado:\n",
    "    def __init__(self):\n",
    "        self.caras = [1, 2, 3, 4, 5, 6]\n",
    "\n",
    "    def lanzar(self):\n",
    "        return random.choice(self.caras)\n",
    "    \n",
    "dado1 = Dado()\n",
    "\n",
    "print(dado1.lanzar())\n",
    "\n"
   ]
  },
  {
   "cell_type": "markdown",
   "metadata": {},
   "source": [
    "COCHE  :\n",
    "Crea una clase “Coche” con atributos como marca, modelo y año. Implementa un método para encender el coche y otro para apagarlo (puedes simulae el encendido y apagado con una variable booleana)."
   ]
  },
  {
   "cell_type": "code",
   "execution_count": 27,
   "metadata": {},
   "outputs": [
    {
     "name": "stdout",
     "output_type": "stream",
     "text": [
      "El coche está encendido True\n",
      "El coche está apagado False\n"
     ]
    }
   ],
   "source": [
    "class Coche:\n",
    "    def __init__(self, marca, modelo, año):\n",
    "        self.marca = marca\n",
    "        self.modelo = modelo\n",
    "        self.año = año\n",
    "        self.encendido = False\n",
    "\n",
    "    def encender(self):\n",
    "        self.encendido = True\n",
    "\n",
    "    def apagar(self):\n",
    "        self.encendido = False\n",
    "\n",
    "coche1 = Coche(\"Toyota\", \"Corolla\", 2020)\n",
    "\n",
    "coche1.encender()\n",
    "print(\"El coche está encendido\" , coche1.encendido)\n",
    "\n",
    "coche1.apagar()\n",
    "print(\"El coche está apagado\" , coche1.encendido)\n"
   ]
  }
 ],
 "metadata": {
  "kernelspec": {
   "display_name": "workshop",
   "language": "python",
   "name": "python3"
  },
  "language_info": {
   "codemirror_mode": {
    "name": "ipython",
    "version": 3
   },
   "file_extension": ".py",
   "mimetype": "text/x-python",
   "name": "python",
   "nbconvert_exporter": "python",
   "pygments_lexer": "ipython3",
   "version": "3.12.4"
  }
 },
 "nbformat": 4,
 "nbformat_minor": 2
}
