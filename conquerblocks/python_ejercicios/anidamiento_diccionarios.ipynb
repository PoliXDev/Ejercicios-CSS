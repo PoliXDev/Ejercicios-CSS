{
 "cells": [
  {
   "cell_type": "markdown",
   "metadata": {},
   "source": [
    "Crea un diccionario llamado \"productos\" que contenga dos entradas. Cada entrada \n",
    "representa un producto y tiene a su vez las claves \"nombre\" y \"precio\" con sus \n",
    "respectivos valores. Recorre el diccionario e imprime el nombre y precio de cada \n",
    "producto"
   ]
  },
  {
   "cell_type": "code",
   "execution_count": 8,
   "metadata": {},
   "outputs": [
    {
     "name": "stdout",
     "output_type": "stream",
     "text": [
      "Nombre: Coca Cola, Precio: 100\n",
      "Nombre: Pepsi, Precio: 200\n"
     ]
    }
   ],
   "source": [
    "productos = {\n",
    "    \"producto1\": {\"nombre\": \"Coca Cola\", \"precio\": 100},\n",
    "    \"producto2\": {\"nombre\": \"Pepsi\", \"precio\": 200}\n",
    "}\n",
    "for producto in productos:\n",
    "    print(f\"Nombre: {productos[producto]['nombre']}, Precio: {productos[producto]['precio']}\")"
   ]
  },
  {
   "cell_type": "markdown",
   "metadata": {},
   "source": [
    "Agrega un nuevo producto al diccionario \"productos\" utilizando una nueva clave y \n",
    "valor. Imprime el diccionario actualizado."
   ]
  },
  {
   "cell_type": "code",
   "execution_count": 9,
   "metadata": {},
   "outputs": [
    {
     "name": "stdout",
     "output_type": "stream",
     "text": [
      "{'producto1': {'nombre': 'Coca Cola', 'precio': 100}, 'producto2': {'nombre': 'Pepsi', 'precio': 200}, 'producto3': {'nombre': 'Fanta', 'precio': 150}}\n"
     ]
    }
   ],
   "source": [
    "productos[\"producto3\"] = {\"nombre\": \"Fanta\", \"precio\": 150}\n",
    "print(productos)"
   ]
  },
  {
   "cell_type": "markdown",
   "metadata": {},
   "source": [
    "Crea un diccionario llamado \"equipos\" que contenga tres entradas. Cada entrada \n",
    "representa un equipo deportivo y tiene las claves \"nombre\" y \"jugadores\" con sus \n",
    "respectivos valores. Los valores de \"jugadores\" deben ser listas con los nombres de \n",
    "los jugadores. Recorre el diccionario e imprime el nombre del equipo y la lista de \n",
    "jugadores\n"
   ]
  },
  {
   "cell_type": "code",
   "execution_count": 13,
   "metadata": {},
   "outputs": [
    {
     "name": "stdout",
     "output_type": "stream",
     "text": [
      "Nombre: Equipo 1, Jugadores: ['Jugador 1', 'Jugador 2', 'Jugador 3']\n",
      "Nombre: Equipo 2, Jugadores: ['Jugador 4', 'Jugador 5', 'Jugador 6']\n",
      "Nombre: Equipo 3, Jugadores: ['Jugador 7', 'Jugador 8', 'Jugador 9']\n"
     ]
    }
   ],
   "source": [
    "equipos = {\n",
    "    \"equipo1\": {\"nombre\": \"Equipo 1\", \"jugadores\": [\"Jugador 1\", \"Jugador 2\", \"Jugador 3\"]},\n",
    "    \"equipo2\": {\"nombre\": \"Equipo 2\", \"jugadores\": [\"Jugador 4\", \"Jugador 5\", \"Jugador 6\"]},\n",
    "    \"equipo3\": {\"nombre\": \"Equipo 3\", \"jugadores\": [\"Jugador 7\", \"Jugador 8\", \"Jugador 9\"]}\n",
    "}\n",
    "for equipo in equipos:\n",
    "    print(f\"Nombre: {equipos[equipo]['nombre']}, Jugadores: {equipos[equipo]['jugadores']}\")"
   ]
  },
  {
   "cell_type": "markdown",
   "metadata": {},
   "source": [
    "Agrega un nuevo equipo al diccionario \"equipos\" utilizando una nueva clave y valor. \n",
    "La lista de jugadores debe contener al menos tres nombres. Imprime el diccionario \n",
    "actualizado\n",
    "\n",
    "\n"
   ]
  },
  {
   "cell_type": "code",
   "execution_count": 14,
   "metadata": {},
   "outputs": [
    {
     "name": "stdout",
     "output_type": "stream",
     "text": [
      "{'equipo1': {'nombre': 'Equipo 1', 'jugadores': ['Jugador 1', 'Jugador 2', 'Jugador 3']}, 'equipo2': {'nombre': 'Equipo 2', 'jugadores': ['Jugador 4', 'Jugador 5', 'Jugador 6']}, 'equipo3': {'nombre': 'Equipo 3', 'jugadores': ['Jugador 7', 'Jugador 8', 'Jugador 9']}, 'equipo4': {'nombre': 'Equipo 4', 'jugadores': ['Jugador 10', 'Jugador 11', 'Jugador 12']}}\n"
     ]
    }
   ],
   "source": [
    "equipos[\"equipo4\"] = {\"nombre\": \"Equipo 4\", \"jugadores\": [\"Jugador 10\", \"Jugador 11\", \"Jugador 12\"]}\n",
    "print(equipos)"
   ]
  },
  {
   "cell_type": "markdown",
   "metadata": {},
   "source": [
    "Actualiza la lista de jugadores de uno de los equipos existentes en el diccionario \n",
    "\"equipos\". Agrega un nuevo jugador a la lista. Imprime el diccionario actualizado\n",
    "\n",
    "\n",
    "\n"
   ]
  },
  {
   "cell_type": "code",
   "execution_count": 3,
   "metadata": {},
   "outputs": [
    {
     "name": "stdout",
     "output_type": "stream",
     "text": [
      "{'equipo1': {'nombre': 'Equipo 1', 'jugadores': ['Jugador 1', 'Jugador 2', 'Jugador 3', 'Jugador 13']}, 'equipo2': {'nombre': 'Equipo 2', 'jugadores': ['Jugador 4', 'Jugador 5', 'Jugador 6']}, 'equipo3': {'nombre': 'Equipo 3', 'jugadores': ['Jugador 7', 'Jugador 8', 'Jugador 9']}}\n",
      "Nombre: Equipo 1, Jugadores: ['Jugador 1', 'Jugador 2', 'Jugador 3', 'Jugador 13']\n",
      "Nombre: Equipo 2, Jugadores: ['Jugador 4', 'Jugador 5', 'Jugador 6']\n",
      "Nombre: Equipo 3, Jugadores: ['Jugador 7', 'Jugador 8', 'Jugador 9']\n"
     ]
    }
   ],
   "source": [
    "equipos = {\n",
    "    \"equipo1\": {\"nombre\": \"Equipo 1\", \"jugadores\": [\"Jugador 1\", \"Jugador 2\", \"Jugador 3\"]},\n",
    "    \"equipo2\": {\"nombre\": \"Equipo 2\", \"jugadores\": [\"Jugador 4\", \"Jugador 5\", \"Jugador 6\"]},\n",
    "    \"equipo3\": {\"nombre\": \"Equipo 3\", \"jugadores\": [\"Jugador 7\", \"Jugador 8\", \"Jugador 9\"]}\n",
    "}\n",
    "\n",
    "equipos[\"equipo1\"][\"jugadores\"].append(\"Jugador 13\")\n",
    "print(equipos)\n",
    "\n",
    "for equipo in equipos:\n",
    "    print(f\"Nombre: {equipos[equipo]['nombre']}, Jugadores: {equipos[equipo]['jugadores']}\")"
   ]
  }
 ],
 "metadata": {
  "kernelspec": {
   "display_name": "workshop",
   "language": "python",
   "name": "python3"
  },
  "language_info": {
   "codemirror_mode": {
    "name": "ipython",
    "version": 3
   },
   "file_extension": ".py",
   "mimetype": "text/x-python",
   "name": "python",
   "nbconvert_exporter": "python",
   "pygments_lexer": "ipython3",
   "version": "3.12.4"
  }
 },
 "nbformat": 4,
 "nbformat_minor": 2
}
