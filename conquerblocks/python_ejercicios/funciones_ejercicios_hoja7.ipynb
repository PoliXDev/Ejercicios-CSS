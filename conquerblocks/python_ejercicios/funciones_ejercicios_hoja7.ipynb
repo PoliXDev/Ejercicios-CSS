{
 "cells": [
  {
   "cell_type": "markdown",
   "metadata": {},
   "source": [
    "Define una función llamada \"saludar\" que tome un parámetro \"nombre\" \n",
    "y muestre un saludo personalizado"
   ]
  },
  {
   "cell_type": "code",
   "execution_count": 1,
   "metadata": {},
   "outputs": [
    {
     "name": "stdout",
     "output_type": "stream",
     "text": [
      "Hola, Daniel!\n"
     ]
    }
   ],
   "source": [
    "def saludar(nombre):\n",
    "    print(f\"Hola, {nombre}!\")\n",
    "\n",
    "saludar(\"Daniel\")\n",
    "\n"
   ]
  },
  {
   "cell_type": "markdown",
   "metadata": {},
   "source": [
    "Crea una función llamada \"suma\" que tome dos parámetros \"a\" y \"b\" e \n",
    "imprima la suma de ambos"
   ]
  },
  {
   "cell_type": "code",
   "execution_count": 4,
   "metadata": {},
   "outputs": [
    {
     "name": "stdout",
     "output_type": "stream",
     "text": [
      "5\n"
     ]
    }
   ],
   "source": [
    "def suma(a, b):\n",
    "    print(a + b)\n",
    "\n",
    "suma(2, 3)\n"
   ]
  },
  {
   "cell_type": "markdown",
   "metadata": {},
   "source": [
    "Escribe una función llamada \"calcular_area_rectangulo\" que tome dos \n",
    "parámetros \"base\" y \"altura\" y calcule el área de un rectángulo"
   ]
  },
  {
   "cell_type": "code",
   "execution_count": 5,
   "metadata": {},
   "outputs": [
    {
     "name": "stdout",
     "output_type": "stream",
     "text": [
      "6\n"
     ]
    }
   ],
   "source": [
    "def calcular_area_rectangulo(base, altura):\n",
    "    print(base* altura)\n",
    "\n",
    "calcular_area_rectangulo(2, 3)\n",
    "    "
   ]
  },
  {
   "cell_type": "markdown",
   "metadata": {},
   "source": [
    "Define una función llamada \"imprimir_lista\" que tome una lista como \n",
    "parámetro y la imprima en la consola"
   ]
  },
  {
   "cell_type": "code",
   "execution_count": 6,
   "metadata": {},
   "outputs": [
    {
     "name": "stdout",
     "output_type": "stream",
     "text": [
      "[1, 2, 3, 4, 5]\n"
     ]
    }
   ],
   "source": [
    "def imprimir_lista(lista):\n",
    "    print(lista)\n",
    "\n",
    "imprimir_lista([1, 2, 3, 4, 5])\n"
   ]
  },
  {
   "cell_type": "markdown",
   "metadata": {},
   "source": [
    "Crea una función llamada \"es_par\" que tome un número como \n",
    "parámetro e imprima True si es par, o False si es impar."
   ]
  },
  {
   "cell_type": "code",
   "execution_count": 7,
   "metadata": {},
   "outputs": [
    {
     "name": "stdout",
     "output_type": "stream",
     "text": [
      "True\n"
     ]
    }
   ],
   "source": [
    "def es_par(numero):\n",
    "    if numero % 2 ==0:\n",
    "        print(True)\n",
    "    else:\n",
    "        print(False)\n",
    "es_par(2)"
   ]
  },
  {
   "cell_type": "markdown",
   "metadata": {},
   "source": [
    "Escribe una función llamada \"concatenar_strings\" que tome dos \n",
    "parámetros \"cadena1\" y “cadena2\" e imprima la concatenación de \n",
    "ambas cadenas"
   ]
  },
  {
   "cell_type": "code",
   "execution_count": 12,
   "metadata": {},
   "outputs": [
    {
     "name": "stdout",
     "output_type": "stream",
     "text": [
      "buenosdías\n"
     ]
    }
   ],
   "source": [
    "def concatenar_strings(cadena1 , cadena2):\n",
    "    print(cadena1 + cadena2)\n",
    "\n",
    "concatenar_strings( \"buenos\" , \"días\" )"
   ]
  },
  {
   "cell_type": "markdown",
   "metadata": {},
   "source": [
    "Define una función llamada \"obtener_maximo\" que tome una lista de \n",
    "números como parámetro y devuelva el número máximo de la lista"
   ]
  },
  {
   "cell_type": "code",
   "execution_count": 13,
   "metadata": {},
   "outputs": [
    {
     "name": "stdout",
     "output_type": "stream",
     "text": [
      "5\n"
     ]
    }
   ],
   "source": [
    "def obtener_maximo(lista):\n",
    "    print(max(lista))\n",
    "\n",
    "obtener_maximo([1, 2, 3, 4, 5])\n",
    "\n"
   ]
  },
  {
   "cell_type": "markdown",
   "metadata": {},
   "source": [
    "Crea una función llamada \"convertir_fahrenheit_a_celsius\" que tome un \n",
    "parámetro \"fahrenheit\" y devuelva su equivalente en grados Celsius."
   ]
  },
  {
   "cell_type": "code",
   "execution_count": 1,
   "metadata": {},
   "outputs": [
    {
     "name": "stdout",
     "output_type": "stream",
     "text": [
      "33.333333333333336\n"
     ]
    }
   ],
   "source": [
    "def convertir_fahrenheit_a_celcius(fahrenheit):\n",
    "    return (fahrenheit - 32) * 5/9\n",
    "\n",
    "print(convertir_fahrenheit_a_celcius(92))"
   ]
  },
  {
   "cell_type": "markdown",
   "metadata": {},
   "source": [
    "Escribe una función llamada \"calcular_edad\" que tome dos parámetros al usuario: \n",
    "\"año_actual\" y \"año_nacimiento\" y calcule la edad de una persona."
   ]
  },
  {
   "cell_type": "code",
   "execution_count": 1,
   "metadata": {},
   "outputs": [
    {
     "name": "stdout",
     "output_type": "stream",
     "text": [
      "40\n"
     ]
    }
   ],
   "source": [
    "def calcular_edad(año_actual, año_nacimiento):\n",
    "    return año_actual - año_nacimiento\n",
    "\n",
    "año_actual = int(input(\"Introduce el año actual: \"))\n",
    "año_nacimiento = int(input(\"Introduce el año de nacimiento: \"))\n",
    "\n",
    "print(calcular_edad(año_actual, año_nacimiento))"
   ]
  },
  {
   "cell_type": "markdown",
   "metadata": {},
   "source": [
    "Define una función llamada \"es_divisible\" que tome dos parámetros \n",
    "\"num\" y \"divisor\" e imprima True si \"num\" es divisible por \"divisor\", o \n",
    "False si no lo es"
   ]
  },
  {
   "cell_type": "code",
   "execution_count": 4,
   "metadata": {},
   "outputs": [
    {
     "name": "stdout",
     "output_type": "stream",
     "text": [
      "False\n",
      "None\n"
     ]
    }
   ],
   "source": [
    "def es_divisible(num, divisor):\n",
    "    if num % divisor == 0:\n",
    "        print(True)\n",
    "    else:\n",
    "        print(False)\n",
    "\n",
    "num = int(input(\"Introduce un numero: \"))\n",
    "divisor = int(input(\"Introduce un divisor: \"))\n",
    "\n",
    "print(es_divisible(num, divisor))\n",
    "\n"
   ]
  },
  {
   "cell_type": "markdown",
   "metadata": {},
   "source": [
    "Crea una función llamada \"mostrar_info_persona\" que tome tres \n",
    "argumentos de palabra clave: \"nombre\", \"edad\" y \"ciudad\". La función \n",
    "debe imprimir en la consola la información de una persona en un \n",
    "formato legible"
   ]
  },
  {
   "cell_type": "code",
   "execution_count": 5,
   "metadata": {},
   "outputs": [
    {
     "name": "stdout",
     "output_type": "stream",
     "text": [
      "Nombre: Daniel, Edad: 40, Ciudad: Madrid\n"
     ]
    }
   ],
   "source": [
    "def mostrar_info_persona(nombre, edad, ciudad):\n",
    "    print(f\"Nombre: {nombre}, Edad: {edad}, Ciudad: {ciudad}\")\n",
    "\n",
    "mostrar_info_persona(nombre=\"Daniel\", edad=40, ciudad=\"Madrid\")\n",
    "\n",
    "\n",
    "\n"
   ]
  },
  {
   "cell_type": "markdown",
   "metadata": {},
   "source": [
    "Escribe una función llamada \"calcular_promedio\" que tome una lista de \n",
    "números como parámetro y calcule el promedio de esos números. Si no \n",
    "se proporciona una lista, debe usar una lista vacía por defecto"
   ]
  },
  {
   "cell_type": "code",
   "execution_count": 7,
   "metadata": {},
   "outputs": [
    {
     "name": "stdout",
     "output_type": "stream",
     "text": [
      "5.5\n"
     ]
    }
   ],
   "source": [
    "def calcular_promedio(lista=[]):\n",
    "    if not lista:\n",
    "        return 0\n",
    "    return sum(lista) / len(lista)\n",
    "\n",
    "print(calcular_promedio([1, 2, 3, 4, 5, 6, 7, 8, 9, 10]))\n",
    "\n",
    "\n",
    "\n",
    "\n",
    "\n",
    "\n"
   ]
  },
  {
   "cell_type": "markdown",
   "metadata": {},
   "source": [
    "Crea una función llamada \"calcular_potencia\" que tome dos \n",
    "parámetros \"base\" y \"exponente\", y calcule la potencia de la base \n",
    "elevada al exponente. Utiliza 2 como valor por defecto para el \n",
    "exponente"
   ]
  },
  {
   "cell_type": "code",
   "execution_count": 9,
   "metadata": {},
   "outputs": [
    {
     "name": "stdout",
     "output_type": "stream",
     "text": [
      "100\n"
     ]
    }
   ],
   "source": [
    "def calcular_potencia(base, exponente=2):\n",
    "    return base ** exponente\n",
    "\n",
    "print(calcular_potencia(10))\n",
    "\n",
    "\n",
    "\n",
    "\n",
    "\n"
   ]
  },
  {
   "cell_type": "markdown",
   "metadata": {},
   "source": [
    "Define una función llamada \"imprimir_info_alumno\" que tome un \n",
    "argumento posicional “nombre”(y sin valor por defecto) y varios \n",
    "argumentos de palabra clave: \"edad\", \"curso\" y “promedio\" (puedes \n",
    "ponerles como valor por defecto None). La función debe imprimir la \n",
    "información del alumno en un formato legible\n",
    "\n",
    "\n",
    "\n",
    "\n",
    "\n"
   ]
  },
  {
   "cell_type": "code",
   "execution_count": 11,
   "metadata": {},
   "outputs": [
    {
     "name": "stdout",
     "output_type": "stream",
     "text": [
      "Nombre: Daniel, Edad: 40, Curso: Matemáticas, Promedio: 8.5\n"
     ]
    }
   ],
   "source": [
    "def imprimir_info_alumno(nombre, edad=None, curso=None, promedio=None):\n",
    "    print(f\"Nombre: {nombre}, Edad: {edad}, Curso: {curso}, Promedio: {promedio}\")\n",
    "\n",
    "imprimir_info_alumno(\"Daniel\", edad=40, curso=\"Matemáticas\", promedio=8.5)\n",
    "\n",
    "\n",
    "\n",
    "\n",
    "\n",
    "\n"
   ]
  }
 ],
 "metadata": {
  "kernelspec": {
   "display_name": "workshop",
   "language": "python",
   "name": "python3"
  },
  "language_info": {
   "codemirror_mode": {
    "name": "ipython",
    "version": 3
   },
   "file_extension": ".py",
   "mimetype": "text/x-python",
   "name": "python",
   "nbconvert_exporter": "python",
   "pygments_lexer": "ipython3",
   "version": "3.12.4"
  }
 },
 "nbformat": 4,
 "nbformat_minor": 2
}
