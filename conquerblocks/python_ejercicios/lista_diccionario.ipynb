{
 "cells": [
  {
   "cell_type": "markdown",
   "metadata": {},
   "source": [
    "Crea un diccionario vacío llamado “mi_diccionario”"
   ]
  },
  {
   "cell_type": "code",
   "execution_count": null,
   "metadata": {},
   "outputs": [],
   "source": [
    "mi_diccionario = {}"
   ]
  },
  {
   "cell_type": "markdown",
   "metadata": {},
   "source": [
    "Agrega un par clave-valor a \"mi_diccionario\" donde la clave sea \"nombre\" y el valor \n",
    "sea tu nombre. \n",
    "\n",
    "\n"
   ]
  },
  {
   "cell_type": "code",
   "execution_count": 4,
   "metadata": {},
   "outputs": [
    {
     "name": "stdout",
     "output_type": "stream",
     "text": [
      "{'nombre': 'Noah', 'edad': 40, 'ciudad': 'Madrid'}\n"
     ]
    }
   ],
   "source": [
    "mi_diccionario = {}\n",
    "mi_diccionario[\"nombre\"] = \"Noah\"\n",
    "mi_diccionario[\"edad\"] = 40\n",
    "mi_diccionario[\"ciudad\"] = \"Madrid\"\n",
    "print(mi_diccionario)"
   ]
  },
  {
   "cell_type": "markdown",
   "metadata": {},
   "source": [
    "Verifica si la clave \"edad\" existe en \"mi_diccionario\". Imprime \"True\" si existe y \"False\" \n",
    "en caso contrario. "
   ]
  },
  {
   "cell_type": "code",
   "execution_count": 5,
   "metadata": {},
   "outputs": [
    {
     "name": "stdout",
     "output_type": "stream",
     "text": [
      "True\n"
     ]
    }
   ],
   "source": [
    "print(\"edad\" in mi_diccionario)"
   ]
  },
  {
   "cell_type": "markdown",
   "metadata": {},
   "source": [
    "Crea un diccionario llamado \"estudiante\" con los siguientes pares clave-valor: \n",
    "\"nombre\" con el nombre del alumno, \"edad\" con su edad y \"materia\" con su materia \n",
    "favorita. \n",
    "\n"
   ]
  },
  {
   "cell_type": "code",
   "execution_count": 7,
   "metadata": {},
   "outputs": [
    {
     "name": "stdout",
     "output_type": "stream",
     "text": [
      "Python\n"
     ]
    }
   ],
   "source": [
    "estudiante = {\n",
    "    \"nombre\": \"Noah\",\n",
    "    \"edad\": 40,\n",
    "    \"materia\": \"Python\"\n",
    "}\n",
    "#Imprime el valor de la clave \"materia\" del diccionario \"estudiante\". \n",
    "print(estudiante[\"materia\"])"
   ]
  },
  {
   "cell_type": "markdown",
   "metadata": {},
   "source": [
    "Elimina el par clave-valor con la clave \"materia\" del diccionario “estudiante\"."
   ]
  },
  {
   "cell_type": "code",
   "execution_count": 1,
   "metadata": {},
   "outputs": [
    {
     "name": "stdout",
     "output_type": "stream",
     "text": [
      "{'nombre': 'Noah', 'edad': 40}\n"
     ]
    }
   ],
   "source": [
    "estudiante = {\n",
    "    \"nombre\": \"Noah\",\n",
    "    \"edad\": 40,\n",
    "    \"materia\": \"Python\"\n",
    "}\n",
    "del estudiante[\"materia\"]\n",
    "#Imprime el valor de la clave \"materia\" del diccionario \"estudiante\". \n",
    "print(estudiante)"
   ]
  },
  {
   "cell_type": "markdown",
   "metadata": {},
   "source": [
    "Imprime todas las claves en el diccionario “estudiante\". "
   ]
  },
  {
   "cell_type": "code",
   "execution_count": 2,
   "metadata": {},
   "outputs": [
    {
     "name": "stdout",
     "output_type": "stream",
     "text": [
      "dict_keys(['nombre', 'edad'])\n"
     ]
    }
   ],
   "source": [
    "print(estudiante.keys())"
   ]
  },
  {
   "cell_type": "markdown",
   "metadata": {},
   "source": [
    "Crea un diccionario llamado \"agenda\" con tres entradas: \"Juan\" con el valor \n",
    "\"1234567890\", \"Joana\" con el valor \"9876543210\" y \"Jimena\" con el valor \n",
    "“5555555555”. "
   ]
  },
  {
   "cell_type": "code",
   "execution_count": 3,
   "metadata": {},
   "outputs": [],
   "source": [
    "agenda = {\n",
    "    \"Juani\": \"12100000000\",\n",
    "    \"Joana\": \"9876543210\",\n",
    "    \"Jimena\": \"5555555555\"\n",
    "}\n",
    "\n"
   ]
  },
  {
   "cell_type": "markdown",
   "metadata": {},
   "source": [
    "Agrega una nueva entrada al diccionario \"agenda\" con la clave \"Julio\" y el valor \n",
    "“9998887777\"."
   ]
  },
  {
   "cell_type": "code",
   "execution_count": 4,
   "metadata": {},
   "outputs": [
    {
     "name": "stdout",
     "output_type": "stream",
     "text": [
      "{'Juan': '1234567890', 'Joana': '9876543210', 'Jimena': '5555555555', 'Julio': '9998887777'}\n"
     ]
    }
   ],
   "source": [
    "agenda[\"Julio\"] = \"9998887777\"\n",
    "print(agenda)\n"
   ]
  },
  {
   "cell_type": "markdown",
   "metadata": {},
   "source": [
    "Imprime el número de entradas (pares clave-valor) en el diccionario “agenda\""
   ]
  },
  {
   "cell_type": "code",
   "execution_count": 5,
   "metadata": {},
   "outputs": [
    {
     "name": "stdout",
     "output_type": "stream",
     "text": [
      "4\n"
     ]
    }
   ],
   "source": [
    "print(len(agenda))"
   ]
  },
  {
   "cell_type": "markdown",
   "metadata": {},
   "source": [
    ".Crea una lista llamada \"claves\" que contenga todas las claves del diccionario \n",
    "“agenda\". "
   ]
  },
  {
   "cell_type": "code",
   "execution_count": 6,
   "metadata": {},
   "outputs": [
    {
     "name": "stdout",
     "output_type": "stream",
     "text": [
      "['Juan', 'Joana', 'Jimena', 'Julio']\n"
     ]
    }
   ],
   "source": [
    "claves = list(agenda.keys())\n",
    "print(claves)\n"
   ]
  },
  {
   "cell_type": "markdown",
   "metadata": {},
   "source": [
    "Verifica si la clave \"Juan\" existe en el diccionario \"agenda\". Imprime \"True\" si existe y \n",
    "\"False\" en caso contrario"
   ]
  },
  {
   "cell_type": "code",
   "execution_count": 7,
   "metadata": {},
   "outputs": [
    {
     "name": "stdout",
     "output_type": "stream",
     "text": [
      "True\n"
     ]
    }
   ],
   "source": [
    "print(\"Juan\" in agenda)"
   ]
  },
  {
   "cell_type": "markdown",
   "metadata": {},
   "source": [
    "Elimina la entrada con la clave “Jimena” del diccionario “agenda”."
   ]
  },
  {
   "cell_type": "code",
   "execution_count": 8,
   "metadata": {},
   "outputs": [
    {
     "name": "stdout",
     "output_type": "stream",
     "text": [
      "{'Juan': '1234567890', 'Joana': '9876543210', 'Julio': '9998887777'}\n"
     ]
    }
   ],
   "source": [
    "del agenda[\"Jimena\"]\n",
    "print(agenda)\n"
   ]
  },
  {
   "cell_type": "markdown",
   "metadata": {},
   "source": [
    "Utiliza un bucle for para iterar sobre todas las claves en el diccionario \"agenda\" e \n",
    "imprime cada par clave-valor en el formato \"Nombre: Número"
   ]
  },
  {
   "cell_type": "code",
   "execution_count": 9,
   "metadata": {},
   "outputs": [
    {
     "name": "stdout",
     "output_type": "stream",
     "text": [
      "Juan: 1234567890\n",
      "Joana: 9876543210\n",
      "Julio: 9998887777\n"
     ]
    }
   ],
   "source": [
    "for clave in agenda:\n",
    "    print(f\"{clave}: {agenda[clave]}\")"
   ]
  },
  {
   "cell_type": "markdown",
   "metadata": {},
   "source": [
    "Utiliza el método \"get()\" para obtener el valor asociado con la clave \"Juan\" en el \n",
    "diccionario \"agenda\". Si la clave no existe, imprime \"Clave no encontrada”"
   ]
  },
  {
   "cell_type": "code",
   "execution_count": 20,
   "metadata": {},
   "outputs": [
    {
     "name": "stdout",
     "output_type": "stream",
     "text": [
      "Clave no encontrada\n"
     ]
    }
   ],
   "source": [
    "valor = agenda.get(\"Daniel\", \"Clave no encontrada\")\n",
    "print(valor)"
   ]
  },
  {
   "cell_type": "markdown",
   "metadata": {},
   "source": [
    "Borra todas las entradas del diccionario “agenda"
   ]
  },
  {
   "cell_type": "code",
   "execution_count": 21,
   "metadata": {},
   "outputs": [
    {
     "name": "stdout",
     "output_type": "stream",
     "text": [
      "{}\n"
     ]
    }
   ],
   "source": [
    "agenda.clear()\n",
    "print(agenda)"
   ]
  }
 ],
 "metadata": {
  "kernelspec": {
   "display_name": "workshop",
   "language": "python",
   "name": "python3"
  },
  "language_info": {
   "codemirror_mode": {
    "name": "ipython",
    "version": 3
   },
   "file_extension": ".py",
   "mimetype": "text/x-python",
   "name": "python",
   "nbconvert_exporter": "python",
   "pygments_lexer": "ipython3",
   "version": "3.12.4"
  }
 },
 "nbformat": 4,
 "nbformat_minor": 2
}
