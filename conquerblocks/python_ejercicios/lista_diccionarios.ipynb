{
 "cells": [
  {
   "cell_type": "markdown",
   "metadata": {},
   "source": [
    "Crea una lista llamada \"estudiantes\" que contenga dos diccionarios. Cada diccionario \n",
    "representa a un estudiante y tiene las claves \"nombre\" y \"edad\" con sus respectivos \n",
    "valores. Recorre la lista e imprime el nombre y edad de cada estudiante. "
   ]
  },
  {
   "cell_type": "code",
   "execution_count": 11,
   "metadata": {},
   "outputs": [
    {
     "name": "stdout",
     "output_type": "stream",
     "text": [
      "Nombre: Juan, Edad: 20\n",
      "Nombre: Joana, Edad: 21\n",
      "Nombre: Jimena, Edad: 22\n"
     ]
    }
   ],
   "source": [
    "estudiantes = [\n",
    "    {\"nombre\": \"Juan\", \"edad\": 20},\n",
    "    {\"nombre\": \"Joana\", \"edad\": 21},\n",
    "    {\"nombre\": \"Jimena\", \"edad\": 22}\n",
    "]\n",
    "for estudiante in estudiantes:\n",
    "    print(f\"Nombre: {estudiante['nombre']}, Edad: {estudiante['edad']}\")\n"
   ]
  },
  {
   "cell_type": "markdown",
   "metadata": {},
   "source": [
    "Agrega un nuevo estudiante a la lista \"estudiantes\" utilizando un diccionario con las \n",
    "mismas claves \"nombre\" y \"edad\". Imprime la lista actualizada. "
   ]
  },
  {
   "cell_type": "code",
   "execution_count": 12,
   "metadata": {},
   "outputs": [
    {
     "name": "stdout",
     "output_type": "stream",
     "text": [
      "[{'nombre': 'Juan', 'edad': 20}, {'nombre': 'Joana', 'edad': 21}, {'nombre': 'Jimena', 'edad': 22}, {'nombre': 'Julio', 'edad': 23}]\n"
     ]
    }
   ],
   "source": [
    "estudiantes.append({\"nombre\": \"Julio\", \"edad\": 23})\n",
    "print(estudiantes)\n",
    "\n"
   ]
  },
  {
   "cell_type": "markdown",
   "metadata": {},
   "source": [
    "Elimina el segundo estudiante de la lista \"estudiantes\". Imprime la lista actualizada."
   ]
  },
  {
   "cell_type": "code",
   "execution_count": 13,
   "metadata": {},
   "outputs": [
    {
     "name": "stdout",
     "output_type": "stream",
     "text": [
      "[{'nombre': 'Juan', 'edad': 20}, {'nombre': 'Jimena', 'edad': 22}, {'nombre': 'Julio', 'edad': 23}]\n"
     ]
    }
   ],
   "source": [
    "estudiantes.pop(1)\n",
    "print(estudiantes)\n",
    "\n"
   ]
  },
  {
   "cell_type": "markdown",
   "metadata": {},
   "source": [
    "Actualiza la edad del primer estudiante en la lista \"estudiantes\" a un nuevo valor. \n",
    "Imprime la lista actualizada."
   ]
  },
  {
   "cell_type": "code",
   "execution_count": 14,
   "metadata": {},
   "outputs": [
    {
     "name": "stdout",
     "output_type": "stream",
     "text": [
      "[{'nombre': 'Juan', 'edad': 24}, {'nombre': 'Jimena', 'edad': 22}, {'nombre': 'Julio', 'edad': 23}]\n"
     ]
    }
   ],
   "source": [
    "estudiantes[0][\"edad\"] = 24\n",
    "print(estudiantes)\n",
    "\n",
    "\n"
   ]
  }
 ],
 "metadata": {
  "kernelspec": {
   "display_name": "workshop",
   "language": "python",
   "name": "python3"
  },
  "language_info": {
   "codemirror_mode": {
    "name": "ipython",
    "version": 3
   },
   "file_extension": ".py",
   "mimetype": "text/x-python",
   "name": "python",
   "nbconvert_exporter": "python",
   "pygments_lexer": "ipython3",
   "version": "3.12.4"
  }
 },
 "nbformat": 4,
 "nbformat_minor": 2
}
